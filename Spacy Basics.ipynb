{
 "cells": [
  {
   "cell_type": "code",
   "execution_count": 1,
   "id": "89861482",
   "metadata": {},
   "outputs": [],
   "source": [
    "import spacy "
   ]
  },
  {
   "cell_type": "code",
   "execution_count": 2,
   "id": "d3c014c6",
   "metadata": {},
   "outputs": [],
   "source": [
    "nlp = spacy.load('en_core_web_sm')"
   ]
  },
  {
   "cell_type": "code",
   "execution_count": 14,
   "id": "7c1a9c95",
   "metadata": {},
   "outputs": [],
   "source": [
    "doc = nlp(u\"Tesla is buying ABC Pvt Ltd. at $9 Million.SHIS JKSD HJ JASDH JKAH DJKAHD \")"
   ]
  },
  {
   "cell_type": "code",
   "execution_count": 8,
   "id": "ae1177fc",
   "metadata": {},
   "outputs": [
    {
     "name": "stdout",
     "output_type": "stream",
     "text": [
      "Tesla NOUN nsubj\n",
      "is AUX aux\n",
      "buying VERB ROOT\n",
      "ABC PROPN compound\n",
      "Pvt PROPN compound\n",
      "Ltd. PROPN dobj\n",
      "at ADP prep\n",
      "$ SYM quantmod\n",
      "9 NUM compound\n",
      "Million NUM pobj\n",
      ". PUNCT punct\n"
     ]
    }
   ],
   "source": [
    "for token in doc:\n",
    "    print(token.text,token.pos_,token.dep_)"
   ]
  },
  {
   "cell_type": "code",
   "execution_count": 6,
   "id": "2c78b58c",
   "metadata": {},
   "outputs": [
    {
     "data": {
      "text/plain": [
       "[('tok2vec', <spacy.pipeline.tok2vec.Tok2Vec at 0x26dd7070c40>),\n",
       " ('tagger', <spacy.pipeline.tagger.Tagger at 0x26dd7070ca0>),\n",
       " ('parser', <spacy.pipeline.dep_parser.DependencyParser at 0x26dd6dbbe40>),\n",
       " ('attribute_ruler',\n",
       "  <spacy.pipeline.attributeruler.AttributeRuler at 0x26dd5cd2b40>),\n",
       " ('lemmatizer', <spacy.lang.en.lemmatizer.EnglishLemmatizer at 0x26dd7057180>),\n",
       " ('ner', <spacy.pipeline.ner.EntityRecognizer at 0x26dd6dbbdd0>)]"
      ]
     },
     "execution_count": 6,
     "metadata": {},
     "output_type": "execute_result"
    }
   ],
   "source": [
    "nlp.pipeline"
   ]
  },
  {
   "cell_type": "code",
   "execution_count": 7,
   "id": "c2788ad8",
   "metadata": {},
   "outputs": [
    {
     "name": "stdout",
     "output_type": "stream",
     "text": [
      "ABC Pvt Ltd.\n",
      "$9 Million\n"
     ]
    }
   ],
   "source": [
    "for entity in doc.ents:\n",
    "    print(entity)"
   ]
  },
  {
   "cell_type": "code",
   "execution_count": 9,
   "id": "39dd788c",
   "metadata": {},
   "outputs": [
    {
     "data": {
      "text/plain": [
       "'proper noun'"
      ]
     },
     "execution_count": 9,
     "metadata": {},
     "output_type": "execute_result"
    }
   ],
   "source": [
    "spacy.explain(\"PROPN\")"
   ]
  },
  {
   "cell_type": "code",
   "execution_count": 10,
   "id": "f4163c97",
   "metadata": {},
   "outputs": [],
   "source": [
    "substr = doc[5:10]"
   ]
  },
  {
   "cell_type": "code",
   "execution_count": 11,
   "id": "b509fe39",
   "metadata": {},
   "outputs": [
    {
     "data": {
      "text/plain": [
       "spacy.tokens.span.Span"
      ]
     },
     "execution_count": 11,
     "metadata": {},
     "output_type": "execute_result"
    }
   ],
   "source": [
    "type(substr) #it is a span of doc"
   ]
  },
  {
   "cell_type": "code",
   "execution_count": 12,
   "id": "97d20a3e",
   "metadata": {},
   "outputs": [
    {
     "data": {
      "text/plain": [
       "spacy.tokens.doc.Doc"
      ]
     },
     "execution_count": 12,
     "metadata": {},
     "output_type": "execute_result"
    }
   ],
   "source": [
    "type(doc) #its doc"
   ]
  },
  {
   "cell_type": "code",
   "execution_count": 15,
   "id": "5e47fb95",
   "metadata": {},
   "outputs": [
    {
     "name": "stdout",
     "output_type": "stream",
     "text": [
      "Tesla is buying ABC Pvt Ltd. at $9 Million.\n",
      "SHIS JKSD HJ JASDH JKAH DJKAHD\n"
     ]
    }
   ],
   "source": [
    "for sentences in doc.sents:\n",
    "    print(sentences)"
   ]
  }
 ],
 "metadata": {
  "kernelspec": {
   "display_name": "Python 3 (ipykernel)",
   "language": "python",
   "name": "python3"
  },
  "language_info": {
   "codemirror_mode": {
    "name": "ipython",
    "version": 3
   },
   "file_extension": ".py",
   "mimetype": "text/x-python",
   "name": "python",
   "nbconvert_exporter": "python",
   "pygments_lexer": "ipython3",
   "version": "3.9.13"
  }
 },
 "nbformat": 4,
 "nbformat_minor": 5
}
