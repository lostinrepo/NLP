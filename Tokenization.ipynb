{
 "cells": [
  {
   "cell_type": "code",
   "execution_count": 1,
   "id": "b05e0248",
   "metadata": {},
   "outputs": [],
   "source": [
    "import spacy "
   ]
  },
  {
   "cell_type": "code",
   "execution_count": 4,
   "id": "a601a3a2",
   "metadata": {},
   "outputs": [],
   "source": [
    "nlp = spacy.load(\"en_core_web_sm\")"
   ]
  },
  {
   "cell_type": "code",
   "execution_count": 2,
   "id": "087b9535",
   "metadata": {},
   "outputs": [],
   "source": [
    "mystr = \"We're moving to L.A. next week\""
   ]
  },
  {
   "cell_type": "code",
   "execution_count": 5,
   "id": "fbf1f1be",
   "metadata": {},
   "outputs": [],
   "source": [
    "doc = nlp(mystr)"
   ]
  },
  {
   "cell_type": "code",
   "execution_count": 7,
   "id": "129d8121",
   "metadata": {},
   "outputs": [
    {
     "name": "stdout",
     "output_type": "stream",
     "text": [
      "We\n",
      "'re\n",
      "moving\n",
      "to\n",
      "L.A.\n",
      "next\n",
      "week\n"
     ]
    }
   ],
   "source": [
    "for token in doc:\n",
    "    print(token.text)\n",
    "    "
   ]
  },
  {
   "cell_type": "code",
   "execution_count": 8,
   "id": "bb855c1d",
   "metadata": {},
   "outputs": [
    {
     "data": {
      "text/plain": [
       "7"
      ]
     },
     "execution_count": 8,
     "metadata": {},
     "output_type": "execute_result"
    }
   ],
   "source": [
    "len(doc)"
   ]
  },
  {
   "cell_type": "code",
   "execution_count": 9,
   "id": "737a22fc",
   "metadata": {},
   "outputs": [
    {
     "data": {
      "text/plain": [
       "'re"
      ]
     },
     "execution_count": 9,
     "metadata": {},
     "output_type": "execute_result"
    }
   ],
   "source": [
    "doc[1]"
   ]
  },
  {
   "cell_type": "code",
   "execution_count": 12,
   "id": "6d06531c",
   "metadata": {},
   "outputs": [
    {
     "name": "stdout",
     "output_type": "stream",
     "text": [
      "L.A. GPE\n",
      "Countries, cities, states\n",
      "next week DATE\n",
      "Absolute or relative dates or periods\n"
     ]
    }
   ],
   "source": [
    "for entity in doc.ents:\n",
    "    print(entity,entity.label_)\n",
    "    print(spacy.explain(entity.label_))"
   ]
  }
 ],
 "metadata": {
  "kernelspec": {
   "display_name": "Python 3 (ipykernel)",
   "language": "python",
   "name": "python3"
  },
  "language_info": {
   "codemirror_mode": {
    "name": "ipython",
    "version": 3
   },
   "file_extension": ".py",
   "mimetype": "text/x-python",
   "name": "python",
   "nbconvert_exporter": "python",
   "pygments_lexer": "ipython3",
   "version": "3.9.13"
  }
 },
 "nbformat": 4,
 "nbformat_minor": 5
}
