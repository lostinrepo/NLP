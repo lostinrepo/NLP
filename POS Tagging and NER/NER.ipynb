{
 "cells": [
  {
   "cell_type": "code",
   "execution_count": 1,
   "id": "eab28f7b",
   "metadata": {},
   "outputs": [],
   "source": [
    "import spacy"
   ]
  },
  {
   "cell_type": "code",
   "execution_count": 2,
   "id": "511928e1",
   "metadata": {},
   "outputs": [],
   "source": [
    "nlp = spacy.load(\"en_core_web_sm\")"
   ]
  },
  {
   "cell_type": "code",
   "execution_count": 4,
   "id": "ce0122ec",
   "metadata": {},
   "outputs": [],
   "source": [
    "def show_ents(doc): \n",
    "    if doc.ents:\n",
    "        for ent in doc.ents:\n",
    "            print(ent.text,'\\t',ent.label_,'\\t',spacy.explain(ent.label_))\n",
    "    else:\n",
    "        print(\"No entities found\")"
   ]
  },
  {
   "cell_type": "code",
   "execution_count": 5,
   "id": "7688d89a",
   "metadata": {},
   "outputs": [
    {
     "name": "stdout",
     "output_type": "stream",
     "text": [
      "No entities found\n"
     ]
    }
   ],
   "source": [
    "doc = nlp(\"Hey How are you ? \")\n",
    "show_ents(doc)"
   ]
  },
  {
   "cell_type": "code",
   "execution_count": 7,
   "id": "4f9d9e08",
   "metadata": {},
   "outputs": [
    {
     "name": "stdout",
     "output_type": "stream",
     "text": [
      "$10 million \t MONEY \t Monetary values, including unit\n",
      "AB Corp. \t ORG \t Companies, agencies, institutions, etc.\n"
     ]
    }
   ],
   "source": [
    "doc = nlp(\"Tesla is buying a $10 million company named AB Corp.\")\n",
    "show_ents(doc)"
   ]
  },
  {
   "cell_type": "code",
   "execution_count": 9,
   "id": "70364ba3",
   "metadata": {},
   "outputs": [],
   "source": [
    "#adding our own entity\n",
    "from spacy.tokens import Span\n",
    "new_ent = Span(doc,0,1,label=\"ORG\")"
   ]
  },
  {
   "cell_type": "code",
   "execution_count": 11,
   "id": "8a6af7f0",
   "metadata": {},
   "outputs": [],
   "source": [
    "doc.ents = list(doc.ents) + [new_ent]"
   ]
  },
  {
   "cell_type": "code",
   "execution_count": 13,
   "id": "07950d2c",
   "metadata": {},
   "outputs": [
    {
     "name": "stdout",
     "output_type": "stream",
     "text": [
      "Tesla \t ORG \t Companies, agencies, institutions, etc.\n",
      "$10 million \t MONEY \t Monetary values, including unit\n",
      "AB Corp. \t ORG \t Companies, agencies, institutions, etc.\n"
     ]
    }
   ],
   "source": [
    "show_ents(doc) #now it shows Tesla as entity"
   ]
  },
  {
   "cell_type": "code",
   "execution_count": 14,
   "id": "7217dd15",
   "metadata": {},
   "outputs": [],
   "source": [
    "#adding multiple entities \n",
    "from spacy.matcher import PhraseMatcher\n",
    "matcher = PhraseMatcher(nlp.vocab)"
   ]
  },
  {
   "cell_type": "code",
   "execution_count": 52,
   "id": "296ac437",
   "metadata": {},
   "outputs": [],
   "source": [
    "doc = nlp('Tanu is buying a $10 million company named XYZ Corp. based out of Dubai which maked vaccum cleaner and vaccum-cleaner.')"
   ]
  },
  {
   "cell_type": "code",
   "execution_count": 21,
   "id": "abe18321",
   "metadata": {},
   "outputs": [
    {
     "name": "stdout",
     "output_type": "stream",
     "text": [
      "$10 million \t MONEY \t Monetary values, including unit\n",
      "XYZ Corp. \t ORG \t Companies, agencies, institutions, etc.\n",
      "Dubai \t GPE \t Countries, cities, states\n"
     ]
    }
   ],
   "source": [
    "show_ents(doc)"
   ]
  },
  {
   "cell_type": "code",
   "execution_count": 32,
   "id": "8bc9a86e",
   "metadata": {},
   "outputs": [],
   "source": [
    "phrase_list = ['Tanu','vaccum cleaner','vaccum-cleaner']"
   ]
  },
  {
   "cell_type": "code",
   "execution_count": 33,
   "id": "f878ef1a",
   "metadata": {},
   "outputs": [],
   "source": [
    "patterns = [nlp(text) for text in phrase_list]"
   ]
  },
  {
   "cell_type": "code",
   "execution_count": 34,
   "id": "1feb8abb",
   "metadata": {},
   "outputs": [],
   "source": [
    "matcher.add('nameadd',None,*patterns)"
   ]
  },
  {
   "cell_type": "code",
   "execution_count": 49,
   "id": "33cc1526",
   "metadata": {},
   "outputs": [
    {
     "data": {
      "text/plain": [
       "[(12330040201706763553, 0, 1),\n",
       " (12330040201706763553, 17, 19),\n",
       " (12330040201706763553, 20, 23)]"
      ]
     },
     "execution_count": 49,
     "metadata": {},
     "output_type": "execute_result"
    }
   ],
   "source": [
    "found_matches = matcher(doc)\n",
    "found_matches"
   ]
  },
  {
   "cell_type": "code",
   "execution_count": 50,
   "id": "14950d4b",
   "metadata": {},
   "outputs": [],
   "source": [
    "new_ents = [Span(doc,match[1],match[2],label=\"PERSON\") for match in found_matches]"
   ]
  },
  {
   "cell_type": "code",
   "execution_count": 53,
   "id": "6d21b1dd",
   "metadata": {},
   "outputs": [],
   "source": [
    "doc.ents = list(doc.ents) + new_ents  "
   ]
  },
  {
   "cell_type": "code",
   "execution_count": 54,
   "id": "8e925ad1",
   "metadata": {},
   "outputs": [
    {
     "name": "stdout",
     "output_type": "stream",
     "text": [
      "Tanu \t PERSON \t People, including fictional\n",
      "$10 million \t MONEY \t Monetary values, including unit\n",
      "XYZ Corp. \t ORG \t Companies, agencies, institutions, etc.\n",
      "Dubai \t GPE \t Countries, cities, states\n",
      "vaccum cleaner \t PERSON \t People, including fictional\n",
      "vaccum-cleaner \t PERSON \t People, including fictional\n"
     ]
    }
   ],
   "source": [
    "show_ents(doc)"
   ]
  }
 ],
 "metadata": {
  "kernelspec": {
   "display_name": "Python 3 (ipykernel)",
   "language": "python",
   "name": "python3"
  },
  "language_info": {
   "codemirror_mode": {
    "name": "ipython",
    "version": 3
   },
   "file_extension": ".py",
   "mimetype": "text/x-python",
   "name": "python",
   "nbconvert_exporter": "python",
   "pygments_lexer": "ipython3",
   "version": "3.9.13"
  }
 },
 "nbformat": 4,
 "nbformat_minor": 5
}
