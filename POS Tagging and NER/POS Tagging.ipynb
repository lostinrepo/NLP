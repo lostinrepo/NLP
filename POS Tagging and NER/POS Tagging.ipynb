{
 "cells": [
  {
   "cell_type": "code",
   "execution_count": 1,
   "id": "3476619e",
   "metadata": {},
   "outputs": [],
   "source": [
    "import spacy "
   ]
  },
  {
   "cell_type": "code",
   "execution_count": 2,
   "id": "0ddcf4be",
   "metadata": {},
   "outputs": [],
   "source": [
    "nlp = spacy.load(\"en_core_web_sm\")"
   ]
  },
  {
   "cell_type": "code",
   "execution_count": 3,
   "id": "5f06df41",
   "metadata": {},
   "outputs": [],
   "source": [
    "doc = nlp(\"The quick brown fox named Laila jumped over lazy dog's back.\")"
   ]
  },
  {
   "cell_type": "code",
   "execution_count": 4,
   "id": "1ecbb21c",
   "metadata": {
    "scrolled": true
   },
   "outputs": [
    {
     "data": {
      "text/plain": [
       "\"The quick brown fox named Laila jumped over lazy dog's back.\""
      ]
     },
     "execution_count": 4,
     "metadata": {},
     "output_type": "execute_result"
    }
   ],
   "source": [
    "doc.text"
   ]
  },
  {
   "cell_type": "code",
   "execution_count": 6,
   "id": "77046441",
   "metadata": {},
   "outputs": [
    {
     "name": "stdout",
     "output_type": "stream",
     "text": [
      "The \t DET \t DT \t determiner\n",
      "quick \t ADJ \t JJ \t adjective (English), other noun-modifier (Chinese)\n",
      "brown \t ADJ \t JJ \t adjective (English), other noun-modifier (Chinese)\n",
      "fox \t NOUN \t NN \t noun, singular or mass\n",
      "named \t VERB \t VBN \t verb, past participle\n",
      "Laila \t PROPN \t NNP \t noun, proper singular\n",
      "jumped \t VERB \t VBD \t verb, past tense\n",
      "over \t ADP \t IN \t conjunction, subordinating or preposition\n",
      "lazy \t ADJ \t JJ \t adjective (English), other noun-modifier (Chinese)\n",
      "dog \t NOUN \t NN \t noun, singular or mass\n",
      "'s \t PART \t POS \t possessive ending\n",
      "back \t NOUN \t NN \t noun, singular or mass\n",
      ". \t PUNCT \t . \t punctuation mark, sentence closer\n"
     ]
    }
   ],
   "source": [
    "for token in doc:\n",
    "    print(token.text,'\\t',token.pos_,'\\t',token.tag_,'\\t',spacy.explain(token.tag_))"
   ]
  },
  {
   "cell_type": "code",
   "execution_count": 7,
   "id": "b3481586",
   "metadata": {},
   "outputs": [],
   "source": [
    "#tag_ returns fine grained tags for example jumped is past tense verb hence VBD"
   ]
  },
  {
   "cell_type": "code",
   "execution_count": 24,
   "id": "58891c88",
   "metadata": {},
   "outputs": [
    {
     "data": {
      "text/plain": [
       "'VBP'"
      ]
     },
     "execution_count": 24,
     "metadata": {},
     "output_type": "execute_result"
    }
   ],
   "source": [
    "doc3 = nlp(\"I read books.\")\n",
    "word = doc3[1]\n",
    "word.tag_"
   ]
  },
  {
   "cell_type": "code",
   "execution_count": 25,
   "id": "7483d026",
   "metadata": {},
   "outputs": [
    {
     "data": {
      "text/plain": [
       "'VBD'"
      ]
     },
     "execution_count": 25,
     "metadata": {},
     "output_type": "execute_result"
    }
   ],
   "source": [
    "doc2 = nlp(\"I read a book.\") #context changed to past ... read book \n",
    "word = doc2[1]\n",
    "word.tag_"
   ]
  },
  {
   "cell_type": "code",
   "execution_count": 22,
   "id": "8c1c0a73",
   "metadata": {},
   "outputs": [
    {
     "name": "stdout",
     "output_type": "stream",
     "text": [
      "85 \t ADP \t 1\n",
      "92 \t NOUN \t 1\n",
      "95 \t PRON \t 1\n",
      "96 \t PROPN \t 1\n",
      "97 \t PUNCT \t 1\n",
      "100 \t VERB \t 1\n"
     ]
    }
   ],
   "source": [
    "#POS tag counts\n",
    "POS_counts = doc.count_by(spacy.attrs.POS)\n",
    "for k,v in sorted(POS_counts.items()):\n",
    "    print(k,'\\t',doc.vocab[k].text,'\\t',v)\n"
   ]
  },
  {
   "cell_type": "code",
   "execution_count": 23,
   "id": "9f162e06",
   "metadata": {},
   "outputs": [
    {
     "name": "stdout",
     "output_type": "stream",
     "text": [
      "783433942507015291 \t NNS \t 1\n",
      "1292078113972184607 \t IN \t 1\n",
      "12646065887601541794 \t . \t 1\n",
      "13656873538139661788 \t PRP \t 1\n",
      "15794550382381185553 \t NNP \t 1\n",
      "17109001835818727656 \t VBD \t 1\n"
     ]
    }
   ],
   "source": [
    "#Fine tag counts\n",
    "TAG_counts = doc.count_by(spacy.attrs.TAG)\n",
    "for k,v in sorted(TAG_counts.items()):\n",
    "    print(k,'\\t',doc.vocab[k].text,'\\t',v)"
   ]
  }
 ],
 "metadata": {
  "kernelspec": {
   "display_name": "Python 3 (ipykernel)",
   "language": "python",
   "name": "python3"
  },
  "language_info": {
   "codemirror_mode": {
    "name": "ipython",
    "version": 3
   },
   "file_extension": ".py",
   "mimetype": "text/x-python",
   "name": "python",
   "nbconvert_exporter": "python",
   "pygments_lexer": "ipython3",
   "version": "3.9.13"
  }
 },
 "nbformat": 4,
 "nbformat_minor": 5
}
