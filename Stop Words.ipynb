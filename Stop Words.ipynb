{
 "cells": [
  {
   "cell_type": "code",
   "execution_count": 1,
   "id": "ab3faba5",
   "metadata": {},
   "outputs": [],
   "source": [
    "import spacy"
   ]
  },
  {
   "cell_type": "code",
   "execution_count": 2,
   "id": "73ca4d3c",
   "metadata": {},
   "outputs": [],
   "source": [
    "nlp = spacy.load(\"en_core_web_sm\")"
   ]
  },
  {
   "cell_type": "code",
   "execution_count": 3,
   "id": "e2ba6b8c",
   "metadata": {},
   "outputs": [
    {
     "name": "stdout",
     "output_type": "stream",
     "text": [
      "{'nor', 'were', 'sometime', 'say', 'an', 'are', 'thence', 'his', 'over', 'otherwise', 'because', 'three', 'we', 'do', 'call', '’m', 'last', '‘s', 'part', 'could', 'nobody', 'themselves', 'seem', 'least', 'would', 'rather', 'still', 'those', 'few', 'herein', 'much', 'seemed', 'by', 'mostly', 'off', 'above', 'anywhere', 'became', 'via', 'whose', 'its', 'wherever', 'nowhere', 'among', 'else', 'under', 'several', 'your', 'amongst', 'further', 'did', 'somehow', 'these', 'what', 'eleven', 'already', 'although', 'please', 'behind', 'due', 'thus', 'am', 'than', 'together', 'or', 'ourselves', '‘ll', 'latter', 'ours', 'should', 'beforehand', 'across', 'here', 'thereafter', 'therein', 'my', 'i', 'sixty', 'to', 'was', 'must', 'myself', 'neither', 'yet', 'then', 'one', 'others', 'perhaps', \"'ll\", 'used', 'even', 'been', 'regarding', 'made', 'meanwhile', 'many', 'both', 'whither', 'so', 'will', 'n‘t', 'two', 'towards', 'they', 'below', 'whereby', 'does', 'whence', 'twelve', 'is', 'side', 'he', 'not', 'around', 'seeming', 'being', 'against', 'same', 'take', 'empty', 'amount', 'when', 'become', 'beyond', 'himself', 'yours', 'can', 'if', 'just', '’ll', 'yourselves', 'whether', 'after', 'onto', 'formerly', 'therefore', 'whereafter', 'hereby', 'between', 'thereby', 'doing', 'who', 'own', 'becomes', 'through', 'such', 'once', 'herself', 'alone', 'until', 'cannot', 'anyhow', 'about', 'show', 'get', 'from', 'back', 'however', '’d', 'hers', 'eight', 'it', 'well', 'ten', 'sometimes', 'with', 'fifty', 'per', 'why', 'again', 'latterly', 'see', 'only', 'former', 'keep', 'may', 'very', 'in', 'whereupon', 'on', 'fifteen', 'you', \"'ve\", 'everyone', 'anyone', 'beside', 'there', 'had', 'itself', 'the', 'have', 'wherein', 'seems', 'four', 'everywhere', 'us', 'everything', 'while', 'six', 'our', '‘d', 'upon', 'as', 'somewhere', 'often', 'them', 'name', 'how', 'namely', 'hence', 'without', 'and', 'hereafter', 'full', '’s', 'using', 're', 'up', \"'re\", 'anyway', 'of', 'too', 'move', 'her', 'more', 'done', 'whoever', \"'s\", 'afterwards', 'ever', 'that', 'but', 'nothing', 'along', 'also', 'serious', 'something', 'twenty', 'nine', 'less', 'whenever', 'thereupon', 'at', 'enough', 'their', 'whatever', 'has', 'whom', 'indeed', 'some', 'whole', \"'m\", 'hereupon', 'a', 'next', 'put', 'into', 'really', 'bottom', 'front', 'moreover', 'within', 'top', 'becoming', 'elsewhere', 'whereas', 'give', 'either', 'quite', 'anything', 'most', 'toward', 'forty', 'out', '‘m', 'now', '’re', \"'d\", 'various', 'never', 'nevertheless', 'down', 'no', 'since', 'throughout', 'during', 'besides', 'other', 'each', 'almost', 'all', 'this', 'go', '‘ve', 'be', 'another', 'n’t', 'someone', 'except', 'might', 'thru', 'me', 'third', 'him', 'first', 'hundred', '’ve', 'where', 'none', 'which', 'before', 'yourself', 'five', 'noone', 'she', 'though', 'mine', 'always', 'for', 'unless', '‘re', 'any', 'ca', 'make', \"n't\", 'every'}\n"
     ]
    }
   ],
   "source": [
    "print(nlp.Defaults.stop_words)"
   ]
  },
  {
   "cell_type": "code",
   "execution_count": 4,
   "id": "3e50d10a",
   "metadata": {},
   "outputs": [
    {
     "data": {
      "text/plain": [
       "326"
      ]
     },
     "execution_count": 4,
     "metadata": {},
     "output_type": "execute_result"
    }
   ],
   "source": [
    "len(nlp.Defaults.stop_words)"
   ]
  },
  {
   "cell_type": "code",
   "execution_count": 6,
   "id": "40218ee8",
   "metadata": {},
   "outputs": [
    {
     "data": {
      "text/plain": [
       "True"
      ]
     },
     "execution_count": 6,
     "metadata": {},
     "output_type": "execute_result"
    }
   ],
   "source": [
    "nlp.vocab['that'].is_stop"
   ]
  }
 ],
 "metadata": {
  "kernelspec": {
   "display_name": "Python 3 (ipykernel)",
   "language": "python",
   "name": "python3"
  },
  "language_info": {
   "codemirror_mode": {
    "name": "ipython",
    "version": 3
   },
   "file_extension": ".py",
   "mimetype": "text/x-python",
   "name": "python",
   "nbconvert_exporter": "python",
   "pygments_lexer": "ipython3",
   "version": "3.9.13"
  }
 },
 "nbformat": 4,
 "nbformat_minor": 5
}
