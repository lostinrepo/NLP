{
 "cells": [
  {
   "cell_type": "code",
   "execution_count": 1,
   "id": "d19dca22",
   "metadata": {},
   "outputs": [],
   "source": [
    "import spacy"
   ]
  },
  {
   "cell_type": "code",
   "execution_count": 2,
   "id": "5480e22b",
   "metadata": {},
   "outputs": [],
   "source": [
    "nlp = spacy.load(\"en_core_web_sm\")"
   ]
  },
  {
   "cell_type": "code",
   "execution_count": 3,
   "id": "8623ec46",
   "metadata": {},
   "outputs": [],
   "source": [
    "from spacy.matcher import Matcher"
   ]
  },
  {
   "cell_type": "code",
   "execution_count": 12,
   "id": "6628d36f",
   "metadata": {},
   "outputs": [],
   "source": [
    "matcher = Matcher(nlp.vocab)"
   ]
  },
  {
   "cell_type": "code",
   "execution_count": 13,
   "id": "d1d24ed7",
   "metadata": {},
   "outputs": [],
   "source": [
    "#SolarPower\n",
    "pattern1 = [{'LOWER':'solarpower'}]\n",
    "#Solar-Power\n",
    "pattern2 = [{'LOWER':'solar'},{'IS_PUNCT':True},{'LOWER':'power'}]\n",
    "#Solar Power\n",
    "pattern3 = [{'LOWER':'solar'},{'LOWER':'power'}]"
   ]
  },
  {
   "cell_type": "code",
   "execution_count": 18,
   "id": "971a1b76",
   "metadata": {},
   "outputs": [],
   "source": [
    "matcher.add('SolarPower',[pattern1,pattern2,pattern3],on_match = None)"
   ]
  },
  {
   "cell_type": "code",
   "execution_count": 22,
   "id": "432d29a2",
   "metadata": {},
   "outputs": [],
   "source": [
    "doc = nlp(\"Tesla is bulding a Solar Power plant with great solarpower is solar-power\")"
   ]
  },
  {
   "cell_type": "code",
   "execution_count": 24,
   "id": "afc351e0",
   "metadata": {},
   "outputs": [
    {
     "name": "stdout",
     "output_type": "stream",
     "text": [
      "[(8656102463236116519, 4, 6), (8656102463236116519, 9, 10), (8656102463236116519, 11, 14)]\n"
     ]
    }
   ],
   "source": [
    "matches = matcher(doc)\n",
    "print(matches)"
   ]
  },
  {
   "cell_type": "code",
   "execution_count": 26,
   "id": "d8f830a3",
   "metadata": {},
   "outputs": [
    {
     "name": "stdout",
     "output_type": "stream",
     "text": [
      "8656102463236116519 4 6 Solar Power\n",
      "8656102463236116519 9 10 solarpower\n",
      "8656102463236116519 11 14 solar-power\n"
     ]
    }
   ],
   "source": [
    "for match_id,start,end in matches:\n",
    "    span=doc[start:end]\n",
    "    print(match_id,start,end,span.text)"
   ]
  },
  {
   "cell_type": "code",
   "execution_count": null,
   "id": "0d693e2a",
   "metadata": {},
   "outputs": [],
   "source": [
    "#alternatively we can use Phrase Matcher which is more efficient"
   ]
  },
  {
   "cell_type": "code",
   "execution_count": 59,
   "id": "81774458",
   "metadata": {},
   "outputs": [],
   "source": [
    "from spacy.matcher import PhraseMatcher"
   ]
  },
  {
   "cell_type": "code",
   "execution_count": 60,
   "id": "c8949bed",
   "metadata": {},
   "outputs": [],
   "source": [
    "matcher2 = PhraseMatcher(nlp.vocab)"
   ]
  },
  {
   "cell_type": "code",
   "execution_count": 61,
   "id": "fa11167a",
   "metadata": {},
   "outputs": [],
   "source": [
    "phrase_list = ['hehe','vodo','gayasunak','lol']"
   ]
  },
  {
   "cell_type": "code",
   "execution_count": 62,
   "id": "f8db79f4",
   "metadata": {},
   "outputs": [
    {
     "data": {
      "text/plain": [
       "spacy.tokens.doc.Doc"
      ]
     },
     "execution_count": 62,
     "metadata": {},
     "output_type": "execute_result"
    }
   ],
   "source": [
    "patterns = [nlp(text) for text in phrase_list]\n",
    "type(patterns[0])"
   ]
  },
  {
   "cell_type": "code",
   "execution_count": 64,
   "id": "d3400c51",
   "metadata": {},
   "outputs": [],
   "source": [
    "doc2 = nlp(\"Tesla is bulding a Solar Power plant hehe with lol great solarpower gayasunak is solar-power vodo\")"
   ]
  },
  {
   "cell_type": "code",
   "execution_count": 63,
   "id": "d9db7f19",
   "metadata": {},
   "outputs": [],
   "source": [
    "matcher2.add('newpat',None,*patterns)"
   ]
  },
  {
   "cell_type": "code",
   "execution_count": 68,
   "id": "df6b6159",
   "metadata": {},
   "outputs": [],
   "source": [
    "matches2 = matcher2(doc2)"
   ]
  },
  {
   "cell_type": "code",
   "execution_count": 69,
   "id": "17223651",
   "metadata": {},
   "outputs": [
    {
     "name": "stdout",
     "output_type": "stream",
     "text": [
      "6350869276987653777 7 8 hehe\n",
      "6350869276987653777 9 10 lol\n",
      "6350869276987653777 12 13 gayasunak\n",
      "6350869276987653777 17 18 vodo\n"
     ]
    }
   ],
   "source": [
    "for match_id,start,end in matches2:\n",
    "    span=doc2[start:end]\n",
    "    print(match_id,start,end,span.text)"
   ]
  }
 ],
 "metadata": {
  "kernelspec": {
   "display_name": "Python 3 (ipykernel)",
   "language": "python",
   "name": "python3"
  },
  "language_info": {
   "codemirror_mode": {
    "name": "ipython",
    "version": 3
   },
   "file_extension": ".py",
   "mimetype": "text/x-python",
   "name": "python",
   "nbconvert_exporter": "python",
   "pygments_lexer": "ipython3",
   "version": "3.9.13"
  }
 },
 "nbformat": 4,
 "nbformat_minor": 5
}
